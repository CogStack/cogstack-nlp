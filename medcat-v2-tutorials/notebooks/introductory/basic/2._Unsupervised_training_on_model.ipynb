{
 "cells": [
  {
   "cell_type": "markdown",
   "metadata": {},
   "source": [
    "# Unsupervised training for the core NER+L\n",
    "\n",
    "We've now got a model.\n",
    "But it's really not a great one since it can't differentiate between concepts that share a name.\n",
    "We should be able to rectify that somewhat by doing some training.\n",
    "\n",
    "First we need to load the model pack we created."
   ]
  },
  {
   "cell_type": "code",
   "execution_count": 1,
   "metadata": {},
   "outputs": [],
   "source": [
    "import os\n",
    "from medcat2.cat import CAT\n",
    "\n",
    "\n",
    "# NOTE: can refer to the .zip or the folder - both will work just fine\n",
    "model_path = os.path.join(\"models\", \"base_model.zip\")\n",
    "\n",
    "cat = CAT.load_model_pack(model_path)"
   ]
  },
  {
   "cell_type": "markdown",
   "metadata": {},
   "source": [
    "Now we want to provide some data to teach the model the difference between `73211009` (_Diabetes mellitus_) and `396230008`  (_Dermatomyositis_).\n",
    "We should be able to do so by providing some data for self-supervised training that with unambiguous names for either concept.\n",
    "So let's try that."
   ]
  },
  {
   "cell_type": "code",
   "execution_count": 2,
   "metadata": {},
   "outputs": [
    {
     "name": "stdout",
     "output_type": "stream",
     "text": [
      "Trained concepts: [('73211009', 'Diabetes Mellitus Diagnosed', 2), ('396230008', 'Wagner Unverricht Syndrome', 1)]\n",
      "Trained names: [('diabetes', 1), ('diabetes~mellitus', 1), ('dermatomyositis', 1)]\n"
     ]
    }
   ],
   "source": [
    "unsup_trian_texts = [\n",
    "    # text regarding diabetes mellitus (73211009)\n",
    "    \"Diabetes mellitus is a metabolic disorder characterized by \"\n",
    "    \"chronic hyperglycemia due to impaired insulin secretion, \"\n",
    "    \"insulin resistance, or both. It can lead to complications \"\n",
    "    \"such as neuropathy, nephropathy, and retinopathy if not well \"\n",
    "    \"managed. Treatment typically involves lifestyle modifications, \"\n",
    "    \"blood glucose monitoring, and pharmacologic interventions like \"\n",
    "    \"insulin or oral hypoglycemics.\",\n",
    "    # text regarding dermatomyositis (396230008)\n",
    "    \"A renowned painter, once known for his intricate brushwork, \"\n",
    "    \"found his art hindered by progressive muscle weakness and \"\n",
    "    \"a distinctive rash on his hands. Doctors diagnosed him with \"\n",
    "    \"dermatomyositis, an inflammatory condition affecting muscles \"\n",
    "    \"and skin. Though his strength waned, he adapted his technique, \"\n",
    "    \"creating expressive works that reflected his resilience in the \"\n",
    "    \"face of illness.\"\n",
    "]\n",
    "cat.trainer.train_unsupervised(unsup_trian_texts)\n",
    "print(\"Trained concepts:\",\n",
    "      [(ci['cui'], cat.cdb.get_name(ci['cui']), ci['count_train']) for ci in cat.cdb.cui2info.values() if ci['count_train']])\n",
    "print(\"Trained names:\",\n",
    "      [(ni[\"name\"], ni[\"count_train\"]) for ni in cat.cdb.name2info.values() if ni[\"count_train\"]])"
   ]
  },
  {
   "cell_type": "markdown",
   "metadata": {},
   "source": [
    "Note that normally, one would load a larger dataset - e.g from a CSV file - and train based on the data there rather than specifying the text in code."
   ]
  },
  {
   "cell_type": "code",
   "execution_count": 3,
   "metadata": {},
   "outputs": [
    {
     "name": "stdout",
     "output_type": "stream",
     "text": [
      "0 : {0: {'pretty_name': 'Diabetes Mellitus Diagnosed', 'cui': '73211009', 'type_ids': [], 'source_value': 'DM', 'detected_name': 'dm', 'acc': np.float64(0.8805509317765855), 'context_similarity': np.float64(0.8805509317765855), 'start': 0, 'end': 2, 'id': 0, 'meta_anns': {}, 'context_left': [], 'context_center': [], 'context_right': []}}\n",
      "1 : {0: {'pretty_name': 'Diabetes Mellitus Diagnosed', 'cui': '73211009', 'type_ids': [], 'source_value': 'DM', 'detected_name': 'dm', 'acc': np.float64(0.8631518546876605), 'context_similarity': np.float64(0.8631518546876605), 'start': 23, 'end': 25, 'id': 0, 'meta_anns': {}, 'context_left': [], 'context_center': [], 'context_right': []}}\n",
      "2 : {0: {'pretty_name': 'Wagner Unverricht Syndrome', 'cui': '396230008', 'type_ids': [], 'source_value': 'DM', 'detected_name': 'dm', 'acc': np.float64(0.6594844055302075), 'context_similarity': np.float64(0.6594844055302075), 'start': 23, 'end': 25, 'id': 0, 'meta_anns': {}, 'context_left': [], 'context_center': [], 'context_right': []}}\n"
     ]
    }
   ],
   "source": [
    "example_text1 = \"\"\"DM is a chronic disease caused by impaired insuline excretion.\"\"\"# definitely diabetes\n",
    "example_text2 = \"\"\"Patient diagnosed with DM now has chronic kidney disease.\"\"\"# probably diabetes\n",
    "example_text3 = \"\"\"Patient diagnosed with DM now has difficulty with their fine motor skills\"\"\"# probably dermatomyositis\n",
    "for text_num, cur_text in enumerate([example_text1, example_text2, example_text3]):\n",
    "    print(text_num, \":\", cat.get_entities(cur_text)['entities'])"
   ]
  },
  {
   "cell_type": "markdown",
   "metadata": {},
   "source": [
    "Note that this only work if the context is somewhat similar to what was in the training data.\n",
    "And because that's based on our very limited `Vocab` in this example, and because there has only been 1 training example, we won't be able to get the correct output for all sets of texts"
   ]
  },
  {
   "cell_type": "code",
   "execution_count": 4,
   "metadata": {},
   "outputs": [
    {
     "name": "stdout",
     "output_type": "stream",
     "text": [
      "{0: {'pretty_name': 'Wagner Unverricht Syndrome', 'cui': '396230008', 'type_ids': [], 'source_value': 'DM', 'detected_name': 'dm', 'acc': np.float64(0.7090981523297809), 'context_similarity': np.float64(0.7090981523297809), 'start': 40, 'end': 42, 'id': 0, 'meta_anns': {}, 'context_left': [], 'context_center': [], 'context_right': []}}\n"
     ]
    }
   ],
   "source": [
    "fail_text = \"\"\"Patient presented with classic signs of DM: they were thirstier than normal, felt tried and weak\"\"\"# probably diabetes\n",
    "print(cat.get_entities(fail_text)['entities'])"
   ]
  },
  {
   "cell_type": "markdown",
   "metadata": {},
   "source": [
    "Now that we've got a model that has received some (very limited!) training, we can save it again."
   ]
  },
  {
   "cell_type": "code",
   "execution_count": 5,
   "metadata": {},
   "outputs": [
    {
     "name": "stdout",
     "output_type": "stream",
     "text": [
      "Saved at models/unsup_trained_model\n"
     ]
    }
   ],
   "source": [
    "save_path = \"models\"\n",
    "mpp = cat.save_model_pack(save_path, pack_name=\"unsup_trained_model\")\n",
    "print(\"Saved at\", mpp)"
   ]
  }
 ],
 "metadata": {
  "kernelspec": {
   "display_name": ".venv",
   "language": "python",
   "name": "python3"
  },
  "language_info": {
   "codemirror_mode": {
    "name": "ipython",
    "version": 3
   },
   "file_extension": ".py",
   "mimetype": "text/x-python",
   "name": "python",
   "nbconvert_exporter": "python",
   "pygments_lexer": "ipython3",
   "version": "3.10.13"
  }
 },
 "nbformat": 4,
 "nbformat_minor": 2
}
