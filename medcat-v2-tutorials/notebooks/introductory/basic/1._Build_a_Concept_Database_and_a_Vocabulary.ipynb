{
 "cells": [
  {
   "cell_type": "markdown",
   "metadata": {},
   "source": [
    "# MedCAT model\n",
    "\n",
    "The core components that we need to built a MedCAT model are:\n",
    "- `CDB` - the concept database\n",
    "- `Config` - all the configurations/options/settings needed for the CDB, as well as the NER and EL process\n",
    "- `Vocab` - the vocabulary for context vectors"
   ]
  },
  {
   "cell_type": "markdown",
   "metadata": {},
   "source": [
    "## Building a vocabulary\n",
    "\n",
    "One of the parts of a model is its vocabulary.\n",
    "The vocabulary is used for both spell checking as well as for word embeddings within to allow the model to differentiate between different contexts.\n",
    "\n",
    "The `Vocab` is a simple class that (more or less) just keeps track of the words, their occurance rate, and the corresponding vector embedding.\n",
    "The occurance rate of a word is used to determine the likelyhood of it in case of typos.\n",
    "And the word embedding is used for the context of concepts within text.\n"
   ]
  },
  {
   "cell_type": "code",
   "execution_count": 1,
   "metadata": {},
   "outputs": [],
   "source": [
    "import os\n",
    "import numpy as np\n",
    "from medcat2.vocab import Vocab\n",
    "\n",
    "vocab = Vocab()"
   ]
  },
  {
   "cell_type": "markdown",
   "metadata": {},
   "source": [
    "Now we have an empty `Vocab`.\n",
    "But we want to add names to it."
   ]
  },
  {
   "cell_type": "code",
   "execution_count": 2,
   "metadata": {},
   "outputs": [],
   "source": [
    "vocab.add_word(\"severe\", 10000, np.array((1.0, 0, 0, 1 ,0, 0, 0)))\n",
    "vocab.add_word(\"minor\", 10000, np.array((1.0, 0, 0, 1, 0, 0, 0)))\n",
    "vocab.add_word(\"acute\", 6500, np.array((0, 1.0, 0, 1, 0, 0, 0)))\n",
    "vocab.add_word(\"chronic\", 6500, np.array((0, -1.0, 0, 0, 1, 0, 0)))\n",
    "\n",
    "vocab_data_path = os.path.join('in_data','dummy_vocab_data.txt')\n",
    "# we add the rest based on an input file\n",
    "vocab.add_words(vocab_data_path)"
   ]
  },
  {
   "cell_type": "markdown",
   "metadata": {},
   "source": [
    "Now we have a vocabulary with some words that have some embedding vectors.\n",
    "We can look at them a little bit as well."
   ]
  },
  {
   "cell_type": "code",
   "execution_count": 3,
   "metadata": {},
   "outputs": [
    {
     "name": "stdout",
     "output_type": "stream",
     "text": [
      "Words in vocab: dict_keys(['severe', 'minor', 'acute', 'chronic', 'heavy', 'light', 'considered', 'with', 'of', 'to', 'were', 'was', 'is', 'are', 'has', 'presence', 'indication', 'time'])\n",
      "Word info for 'severe' {'vector': array([1., 0., 0., 1., 0., 0., 0.]), 'count': 10000, 'index': 0}\n",
      "Word vector for 'severe' [1. 0. 0. 1. 0. 0. 0.]\n"
     ]
    }
   ],
   "source": [
    "print(\"Words in vocab:\", vocab.vocab.keys())\n",
    "print(\"Word info for 'severe'\", vocab.vocab['severe'])\n",
    "print(\"Word vector for 'severe'\", vocab.vec('severe'))"
   ]
  },
  {
   "cell_type": "markdown",
   "metadata": {},
   "source": [
    "## Let's start building a concept database (CDB)\n",
    "\n",
    "The concept database (CDB) defines the concepts (the terms) as well as the names each concept can be referred to as.\n",
    "For instance, if we're talking about the Snomed term `73211009` (_Diabetes mellitus_), it can be known as many names (e.g \"diabetes\", \"diabetes mellitus diagnosis\", \"diabete mellitus\", \"diabetes mellitus\", \"dm\", \"diabetes mellitus diagnosed\", \"diabetes mellitus disorder\").\n",
    "\n",
    "While many of these names are clearly always referring to the term, some are not.\n",
    "For instance, the abrevation `dm` could refer to many other terms (e.g `77956009` (Steinert myotonic dystrophy syndrome), `396230008` (Dermatomyositis), `387114001` (Dextromethorphan), or `30782001` (Diastolic murmur), and so on).\n",
    "The concept databse is designed to make sure we understand all this.\n",
    "\n",
    "I.e so that we know which names can be used for each terms, as well as which names correspond to which different terms.\n",
    "In the context of MedCAT, we tend to call the term identifier (`73211009` in this case) the Concept Unique Identifier (_CUI_) and the variants simple the _names_.\n"
   ]
  },
  {
   "cell_type": "code",
   "execution_count": 4,
   "metadata": {},
   "outputs": [
    {
     "name": "stdout",
     "output_type": "stream",
     "text": [
      "CDB, CUI2Info: {} name2Info {}\n"
     ]
    }
   ],
   "source": [
    "import pandas as pd\n",
    "from medcat2.model_creation.cdb_maker import CDBMaker\n",
    "from medcat2.cdb import CDB\n",
    "from medcat2.config import Config\n",
    "\n",
    "# first we need a config\n",
    "# we can use the default for now\n",
    "cnf = Config()\n",
    "\n",
    "# now we can create a CDB\n",
    "cdb = CDB(cnf)\n",
    "\n",
    "# though this CDB is empty\n",
    "print(\"CDB, CUI2Info:\", cdb.cui2info, \"name2Info\", cdb.name2info)"
   ]
  },
  {
   "cell_type": "markdown",
   "metadata": {},
   "source": [
    "Now we have a CDB, but we need a `CDBMaker` to help us add concepts to the CDB.\n",
    "The `CDBMaker` helps automate some of the preprocessing for the names.\n",
    "As we will see later, this makes the names appear somewhat unorthodox in the CDB.\n"
   ]
  },
  {
   "cell_type": "code",
   "execution_count": 5,
   "metadata": {},
   "outputs": [],
   "source": [
    "# NOTE: we can just start with a config and in that case a new CDB is created by the maker automatically\n",
    "maker = CDBMaker(cnf, cdb)\n",
    "# now "
   ]
  },
  {
   "cell_type": "markdown",
   "metadata": {},
   "source": [
    "Next, we want to add some actual context into the CDB.\n",
    "We will select the diabetes concept (CUI `73211009`) that was discussed earlier along with the names listed before.\n",
    "Do note though that this is not all the names that the term can be found with."
   ]
  },
  {
   "cell_type": "code",
   "execution_count": 6,
   "metadata": {},
   "outputs": [],
   "source": [
    "cui = '73211009'  # NOTE: we use the CUI as strings because not all ontologies have integer concept identifiers\n",
    "name_list = [\"diabetes\", \"diabetes mellitus diagnosis\", \"diabete mellitus\",\n",
    "             \"diabetes mellitus\", \"dm\", \"diabetes mellitus diagnosed\", \"diabetes mellitus disorder\"]"
   ]
  },
  {
   "cell_type": "markdown",
   "metadata": {},
   "source": [
    "Before we can feed this to the `CDBMaker` we need to migrate the concept and its names into a `pandas.DataFrame`.\n",
    "This is because in general this method is used to read data from one or several CSV files with many concepts within them."
   ]
  },
  {
   "cell_type": "code",
   "execution_count": 7,
   "metadata": {},
   "outputs": [
    {
     "name": "stdout",
     "output_type": "stream",
     "text": [
      "The dataframe:\n",
      "         cui                         name\n",
      "0  73211009                     diabetes\n",
      "1  73211009  diabetes mellitus diagnosis\n",
      "2  73211009             diabete mellitus\n",
      "3  73211009            diabetes mellitus\n",
      "4  73211009                           dm\n",
      "5  73211009  diabetes mellitus diagnosed\n",
      "6  73211009   diabetes mellitus disorder\n"
     ]
    }
   ],
   "source": [
    "\n",
    "cui_df = pd.DataFrame({\"cui\": cui, \"name\": name_list})\n",
    "# now we check that all our names are in the dataframe\n",
    "print(\"The dataframe:\\n\", cui_df)"
   ]
  },
  {
   "cell_type": "markdown",
   "metadata": {},
   "source": [
    "Now that we have the input data in the correct format, we can add it to the CDB using the `CDBMaker`.\n",
    "\n",
    "NOTE:\n",
    "The full supported CSV format can be described as:\n",
    "```csv\n",
    "cui,name,ontologies,name_status,type_ids,description\n",
    "1,Kidney Failure,SNOMED,P,T047,kidneys stop working\n",
    "```"
   ]
  },
  {
   "cell_type": "code",
   "execution_count": 8,
   "metadata": {},
   "outputs": [
    {
     "name": "stdout",
     "output_type": "stream",
     "text": [
      "Done CDB CUI2Info: dict_keys(['73211009']) name2Info dict_keys(['diabetes', 'diabetes~mellitus~diagnosis', 'diabete~mellitus', 'diabetes~mellitus', 'dm', 'diabetes~mellitus~diagnosed', 'diabetes~mellitus~disorder'])\n"
     ]
    }
   ],
   "source": [
    "maker.prepare_csvs([cui_df])\n",
    "# now we can verify that the added concept and its names are in there:\n",
    "# NOTE: we only print out the key for now\n",
    "print(\"Done CDB CUI2Info:\", cdb.cui2info.keys(), \"name2Info\", cdb.name2info.keys())"
   ]
  },
  {
   "cell_type": "markdown",
   "metadata": {},
   "source": [
    "As we can see, the names have `~` in them instead of spaces (` `).\n",
    "That is the preprocessing that `CDBMaker` automated for us.\n",
    "The reason for this is not important at this time.\n",
    "\n",
    "However, in order for the CDB to be useful we may want to add another concept to it."
   ]
  },
  {
   "cell_type": "code",
   "execution_count": 9,
   "metadata": {},
   "outputs": [
    {
     "name": "stdout",
     "output_type": "stream",
     "text": [
      "Final CDB CUI2Info: dict_keys(['73211009', '396230008']) name2Info dict_keys(['diabetes', 'diabetes~mellitus~diagnosis', 'diabete~mellitus', 'diabetes~mellitus', 'dm', 'diabetes~mellitus~diagnosed', 'diabetes~mellitus~disorder', 'dermatopolymyositis', 'dermatomyositis~disorder', 'wagner~unverricht~syndrome', 'dermatomyositides', 'dermatomyositis', 'dermatomyositis~diagnosis', 'dermatomyositide'])\n"
     ]
    }
   ],
   "source": [
    "cui2 = '396230008'  # Dermatomyositis\n",
    "# NOTE: we're not including all the possible names here either\n",
    "name_list2 = ['dermatopolymyositis', 'dermatomyositis disorder', 'wagner unverricht syndrome',\n",
    "         'dermatomyositides', 'dm', 'dermatomyositis', 'dermatomyositis diagnosis', 'dermatomyositide']\n",
    "cui_df2 = pd.DataFrame({\"cui\": cui2, \"name\": name_list2})\n",
    "maker.prepare_csvs([cui_df2])\n",
    "# and check the contents again\n",
    "print(\"Final CDB CUI2Info:\", cdb.cui2info.keys(), \"name2Info\", cdb.name2info.keys())"
   ]
  },
  {
   "cell_type": "markdown",
   "metadata": {},
   "source": [
    "## Now we can create a model pack\n",
    "\n",
    "Now that we have the CDB and the Vocab, we can finally create a model pack."
   ]
  },
  {
   "cell_type": "code",
   "execution_count": 10,
   "metadata": {},
   "outputs": [],
   "source": [
    "from medcat2.cat import CAT\n",
    "\n",
    "cat = CAT(cdb, vocab, cnf)"
   ]
  },
  {
   "cell_type": "markdown",
   "metadata": {},
   "source": [
    "Now that we have a model pack, we can try and use it as well."
   ]
  },
  {
   "cell_type": "code",
   "execution_count": 11,
   "metadata": {},
   "outputs": [
    {
     "name": "stderr",
     "output_type": "stream",
     "text": [
      "Training was enabled during inference. It was automatically disabled.\n"
     ]
    },
    {
     "name": "stdout",
     "output_type": "stream",
     "text": [
      "Found entities: {0: {'pretty_name': 'Diabetes Mellitus Diagnosed', 'cui': '73211009', 'type_ids': [], 'source_value': 'diabetes', 'detected_name': 'diabetes', 'acc': 1, 'context_similarity': 1, 'start': 27, 'end': 35, 'id': 0, 'meta_anns': {}, 'context_left': [], 'context_center': [], 'context_right': []}}\n",
      "Found entities: {0: {'pretty_name': 'Wagner Unverricht Syndrome', 'cui': '396230008', 'type_ids': [], 'source_value': 'dermatomyositis', 'detected_name': 'dermatomyositis', 'acc': 1, 'context_similarity': 1, 'start': 13, 'end': 28, 'id': 0, 'meta_anns': {}, 'context_left': [], 'context_center': [], 'context_right': []}}\n"
     ]
    }
   ],
   "source": [
    "text_for_diabetes = \"\"\"Patient was diagnosed with diabetes last year.\"\"\"\n",
    "print(\"Found entities:\", cat.get_entities(text_for_diabetes)['entities'])\n",
    "text_for_dermatomyositis = \"\"\"Patient with dermatomyositis had no comorbilities\"\"\"\n",
    "print(\"Found entities:\", cat.get_entities(text_for_dermatomyositis)['entities'])"
   ]
  },
  {
   "cell_type": "markdown",
   "metadata": {},
   "source": [
    "These worked without training because the concepts were not amiguous.\n",
    "Each name we detected was directly linked to only one concept.\n",
    "However, things change if we try the same with some text that is ambiguous."
   ]
  },
  {
   "cell_type": "code",
   "execution_count": 12,
   "metadata": {},
   "outputs": [
    {
     "name": "stdout",
     "output_type": "stream",
     "text": [
      "Found entities: {}\n"
     ]
    }
   ],
   "source": [
    "# NOTE: we need to set the min name length to 2 to have any chance here\n",
    "cat.config.components.ner.min_name_len = 2\n",
    "\n",
    "ambig_text = \"\"\"Patient with DM was diagnosed with chronic kidney disease.\"\"\"\n",
    "print(\"Found entities:\", cat.get_entities(ambig_text)['entities'])"
   ]
  },
  {
   "cell_type": "markdown",
   "metadata": {},
   "source": [
    "The next parts of the tutorials will show how we can use the model pack and make it disambiguate names as well\n",
    "For now, we will just save the model."
   ]
  },
  {
   "cell_type": "code",
   "execution_count": 13,
   "metadata": {},
   "outputs": [
    {
     "name": "stdout",
     "output_type": "stream",
     "text": [
      "Saved at models/base_model\n"
     ]
    }
   ],
   "source": [
    "save_path = \"models\"\n",
    "mpp = cat.save_model_pack(save_path, pack_name=\"base_model\")\n",
    "print(\"Saved at\", mpp)"
   ]
  }
 ],
 "metadata": {
  "kernelspec": {
   "display_name": ".venv",
   "language": "python",
   "name": "python3"
  },
  "language_info": {
   "codemirror_mode": {
    "name": "ipython",
    "version": 3
   },
   "file_extension": ".py",
   "mimetype": "text/x-python",
   "name": "python",
   "nbconvert_exporter": "python",
   "pygments_lexer": "ipython3",
   "version": "3.10.13"
  }
 },
 "nbformat": 4,
 "nbformat_minor": 2
}
